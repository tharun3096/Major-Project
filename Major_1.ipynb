{
  "nbformat": 4,
  "nbformat_minor": 0,
  "metadata": {
    "colab": {
      "provenance": []
    },
    "kernelspec": {
      "name": "python3",
      "display_name": "Python 3"
    },
    "language_info": {
      "name": "python"
    }
  },
  "cells": [
    {
      "cell_type": "code",
      "execution_count": null,
      "metadata": {
        "colab": {
          "base_uri": "https://localhost:8080/"
        },
        "id": "DH1Of3JlgEYS",
        "outputId": "74d5c05f-1c0b-432b-a4eb-302f5fc8a1ed"
      },
      "outputs": [
        {
          "output_type": "stream",
          "name": "stdout",
          "text": [
            "Requirement already satisfied: requests in /usr/local/lib/python3.11/dist-packages (2.32.3)\n",
            "Requirement already satisfied: tensorflow in /usr/local/lib/python3.11/dist-packages (2.18.0)\n",
            "Requirement already satisfied: pandas in /usr/local/lib/python3.11/dist-packages (2.2.2)\n",
            "Requirement already satisfied: numpy in /usr/local/lib/python3.11/dist-packages (2.0.2)\n",
            "Requirement already satisfied: matplotlib in /usr/local/lib/python3.11/dist-packages (3.10.0)\n",
            "Requirement already satisfied: scikit-learn in /usr/local/lib/python3.11/dist-packages (1.6.1)\n",
            "Requirement already satisfied: charset-normalizer<4,>=2 in /usr/local/lib/python3.11/dist-packages (from requests) (3.4.1)\n",
            "Requirement already satisfied: idna<4,>=2.5 in /usr/local/lib/python3.11/dist-packages (from requests) (3.10)\n",
            "Requirement already satisfied: urllib3<3,>=1.21.1 in /usr/local/lib/python3.11/dist-packages (from requests) (2.3.0)\n",
            "Requirement already satisfied: certifi>=2017.4.17 in /usr/local/lib/python3.11/dist-packages (from requests) (2025.1.31)\n",
            "Requirement already satisfied: absl-py>=1.0.0 in /usr/local/lib/python3.11/dist-packages (from tensorflow) (1.4.0)\n",
            "Requirement already satisfied: astunparse>=1.6.0 in /usr/local/lib/python3.11/dist-packages (from tensorflow) (1.6.3)\n",
            "Requirement already satisfied: flatbuffers>=24.3.25 in /usr/local/lib/python3.11/dist-packages (from tensorflow) (25.2.10)\n",
            "Requirement already satisfied: gast!=0.5.0,!=0.5.1,!=0.5.2,>=0.2.1 in /usr/local/lib/python3.11/dist-packages (from tensorflow) (0.6.0)\n",
            "Requirement already satisfied: google-pasta>=0.1.1 in /usr/local/lib/python3.11/dist-packages (from tensorflow) (0.2.0)\n",
            "Requirement already satisfied: libclang>=13.0.0 in /usr/local/lib/python3.11/dist-packages (from tensorflow) (18.1.1)\n",
            "Requirement already satisfied: opt-einsum>=2.3.2 in /usr/local/lib/python3.11/dist-packages (from tensorflow) (3.4.0)\n",
            "Requirement already satisfied: packaging in /usr/local/lib/python3.11/dist-packages (from tensorflow) (24.2)\n",
            "Requirement already satisfied: protobuf!=4.21.0,!=4.21.1,!=4.21.2,!=4.21.3,!=4.21.4,!=4.21.5,<6.0.0dev,>=3.20.3 in /usr/local/lib/python3.11/dist-packages (from tensorflow) (5.29.3)\n",
            "Requirement already satisfied: setuptools in /usr/local/lib/python3.11/dist-packages (from tensorflow) (75.1.0)\n",
            "Requirement already satisfied: six>=1.12.0 in /usr/local/lib/python3.11/dist-packages (from tensorflow) (1.17.0)\n",
            "Requirement already satisfied: termcolor>=1.1.0 in /usr/local/lib/python3.11/dist-packages (from tensorflow) (2.5.0)\n",
            "Requirement already satisfied: typing-extensions>=3.6.6 in /usr/local/lib/python3.11/dist-packages (from tensorflow) (4.12.2)\n",
            "Requirement already satisfied: wrapt>=1.11.0 in /usr/local/lib/python3.11/dist-packages (from tensorflow) (1.17.2)\n",
            "Requirement already satisfied: grpcio<2.0,>=1.24.3 in /usr/local/lib/python3.11/dist-packages (from tensorflow) (1.71.0)\n",
            "Requirement already satisfied: tensorboard<2.19,>=2.18 in /usr/local/lib/python3.11/dist-packages (from tensorflow) (2.18.0)\n",
            "Requirement already satisfied: keras>=3.5.0 in /usr/local/lib/python3.11/dist-packages (from tensorflow) (3.8.0)\n",
            "Requirement already satisfied: h5py>=3.11.0 in /usr/local/lib/python3.11/dist-packages (from tensorflow) (3.13.0)\n",
            "Requirement already satisfied: ml-dtypes<0.5.0,>=0.4.0 in /usr/local/lib/python3.11/dist-packages (from tensorflow) (0.4.1)\n",
            "Requirement already satisfied: tensorflow-io-gcs-filesystem>=0.23.1 in /usr/local/lib/python3.11/dist-packages (from tensorflow) (0.37.1)\n",
            "Requirement already satisfied: python-dateutil>=2.8.2 in /usr/local/lib/python3.11/dist-packages (from pandas) (2.8.2)\n",
            "Requirement already satisfied: pytz>=2020.1 in /usr/local/lib/python3.11/dist-packages (from pandas) (2025.1)\n",
            "Requirement already satisfied: tzdata>=2022.7 in /usr/local/lib/python3.11/dist-packages (from pandas) (2025.1)\n",
            "Requirement already satisfied: contourpy>=1.0.1 in /usr/local/lib/python3.11/dist-packages (from matplotlib) (1.3.1)\n",
            "Requirement already satisfied: cycler>=0.10 in /usr/local/lib/python3.11/dist-packages (from matplotlib) (0.12.1)\n",
            "Requirement already satisfied: fonttools>=4.22.0 in /usr/local/lib/python3.11/dist-packages (from matplotlib) (4.56.0)\n",
            "Requirement already satisfied: kiwisolver>=1.3.1 in /usr/local/lib/python3.11/dist-packages (from matplotlib) (1.4.8)\n",
            "Requirement already satisfied: pillow>=8 in /usr/local/lib/python3.11/dist-packages (from matplotlib) (11.1.0)\n",
            "Requirement already satisfied: pyparsing>=2.3.1 in /usr/local/lib/python3.11/dist-packages (from matplotlib) (3.2.1)\n",
            "Requirement already satisfied: scipy>=1.6.0 in /usr/local/lib/python3.11/dist-packages (from scikit-learn) (1.14.1)\n",
            "Requirement already satisfied: joblib>=1.2.0 in /usr/local/lib/python3.11/dist-packages (from scikit-learn) (1.4.2)\n",
            "Requirement already satisfied: threadpoolctl>=3.1.0 in /usr/local/lib/python3.11/dist-packages (from scikit-learn) (3.6.0)\n",
            "Requirement already satisfied: wheel<1.0,>=0.23.0 in /usr/local/lib/python3.11/dist-packages (from astunparse>=1.6.0->tensorflow) (0.45.1)\n",
            "Requirement already satisfied: rich in /usr/local/lib/python3.11/dist-packages (from keras>=3.5.0->tensorflow) (13.9.4)\n",
            "Requirement already satisfied: namex in /usr/local/lib/python3.11/dist-packages (from keras>=3.5.0->tensorflow) (0.0.8)\n",
            "Requirement already satisfied: optree in /usr/local/lib/python3.11/dist-packages (from keras>=3.5.0->tensorflow) (0.14.1)\n",
            "Requirement already satisfied: markdown>=2.6.8 in /usr/local/lib/python3.11/dist-packages (from tensorboard<2.19,>=2.18->tensorflow) (3.7)\n",
            "Requirement already satisfied: tensorboard-data-server<0.8.0,>=0.7.0 in /usr/local/lib/python3.11/dist-packages (from tensorboard<2.19,>=2.18->tensorflow) (0.7.2)\n",
            "Requirement already satisfied: werkzeug>=1.0.1 in /usr/local/lib/python3.11/dist-packages (from tensorboard<2.19,>=2.18->tensorflow) (3.1.3)\n",
            "Requirement already satisfied: MarkupSafe>=2.1.1 in /usr/local/lib/python3.11/dist-packages (from werkzeug>=1.0.1->tensorboard<2.19,>=2.18->tensorflow) (3.0.2)\n",
            "Requirement already satisfied: markdown-it-py>=2.2.0 in /usr/local/lib/python3.11/dist-packages (from rich->keras>=3.5.0->tensorflow) (3.0.0)\n",
            "Requirement already satisfied: pygments<3.0.0,>=2.13.0 in /usr/local/lib/python3.11/dist-packages (from rich->keras>=3.5.0->tensorflow) (2.18.0)\n",
            "Requirement already satisfied: mdurl~=0.1 in /usr/local/lib/python3.11/dist-packages (from markdown-it-py>=2.2.0->rich->keras>=3.5.0->tensorflow) (0.1.2)\n"
          ]
        }
      ],
      "source": [
        "!pip install requests tensorflow pandas numpy matplotlib scikit-learn\n"
      ]
    },
    {
      "cell_type": "code",
      "source": [
        "import requests\n",
        "import time\n",
        "import pandas as pd\n",
        "import numpy as np\n",
        "import matplotlib.pyplot as plt\n",
        "from sklearn.preprocessing import MinMaxScaler\n",
        "# 🔹 Replace with your actual Blynk Auth Token\n",
        "BLYNK_AUTH_TOKEN = \"qf-xfmiwprNBw0JCVKMw4YiJs83vqQ6c\"\n",
        "BLYNK_API_URL = f\"https://blynk.cloud/external/api/get?token={BLYNK_AUTH_TOKEN}&V0\"\n",
        "\n",
        "# Function to fetch voltage values from Blynk API\n",
        "def get_voltage():\n",
        "    \"\"\"Fetch real-time voltage from Blynk API.\"\"\"\n",
        "    try:\n",
        "        response = requests.get(BLYNK_API_URL)\n",
        "        if response.status_code == 200:\n",
        "            return float(response.text)\n",
        "        else:\n",
        "            print(\"Error fetching data from Blynk API\")\n",
        "            return None\n",
        "    except Exception as e:\n",
        "        print(\"Request failed:\", e)\n",
        "        return None\n"
      ],
      "metadata": {
        "id": "isLg3cAGgJKt"
      },
      "execution_count": null,
      "outputs": []
    },
    {
      "cell_type": "code",
      "source": [
        "# Load data\n",
        "df = pd.read_csv(\"/content/voltage_data .csv\")\n",
        "\n",
        "# Normalize the data (LSTM requires normalization)\n",
        "scaler = MinMaxScaler(feature_range=(0, 1))\n",
        "df[\"Voltage\"] = scaler.fit_transform(df[[\"Voltage\"]])\n",
        "\n",
        "# Convert the data into sequences for LSTM\n",
        "def create_sequences(data, seq_length):\n",
        "    sequences = []\n",
        "    labels = []\n",
        "\n",
        "    for i in range(len(data) - seq_length):\n",
        "        seq = data[i:i+seq_length]\n",
        "        label = data[i+seq_length]\n",
        "        sequences.append(seq)\n",
        "        labels.append(label)\n",
        "\n",
        "    return np.array(sequences), np.array(labels)\n",
        "\n",
        "seq_length = 10  # Use past 10 readings to predict the next one\n",
        "X, y = create_sequences(df[\"Voltage\"].values, seq_length)\n",
        "\n",
        "# Reshape X for LSTM input (samples, time steps, features)\n",
        "X = X.reshape(X.shape[0], X.shape[1], 1)\n"
      ],
      "metadata": {
        "id": "VNd-2XBUgT3a",
        "outputId": "75dd2a83-ca40-48a3-f3c8-58d03ee45176",
        "colab": {
          "base_uri": "https://localhost:8080/",
          "height": 356
        }
      },
      "execution_count": null,
      "outputs": [
        {
          "output_type": "error",
          "ename": "FileNotFoundError",
          "evalue": "[Errno 2] No such file or directory: '/content/voltage_data .csv'",
          "traceback": [
            "\u001b[0;31m---------------------------------------------------------------------------\u001b[0m",
            "\u001b[0;31mFileNotFoundError\u001b[0m                         Traceback (most recent call last)",
            "\u001b[0;32m<ipython-input-3-455c77663823>\u001b[0m in \u001b[0;36m<cell line: 0>\u001b[0;34m()\u001b[0m\n\u001b[1;32m      1\u001b[0m \u001b[0;31m# Load data\u001b[0m\u001b[0;34m\u001b[0m\u001b[0;34m\u001b[0m\u001b[0m\n\u001b[0;32m----> 2\u001b[0;31m \u001b[0mdf\u001b[0m \u001b[0;34m=\u001b[0m \u001b[0mpd\u001b[0m\u001b[0;34m.\u001b[0m\u001b[0mread_csv\u001b[0m\u001b[0;34m(\u001b[0m\u001b[0;34m\"/content/voltage_data .csv\"\u001b[0m\u001b[0;34m)\u001b[0m\u001b[0;34m\u001b[0m\u001b[0;34m\u001b[0m\u001b[0m\n\u001b[0m\u001b[1;32m      3\u001b[0m \u001b[0;34m\u001b[0m\u001b[0m\n\u001b[1;32m      4\u001b[0m \u001b[0;31m# Normalize the data (LSTM requires normalization)\u001b[0m\u001b[0;34m\u001b[0m\u001b[0;34m\u001b[0m\u001b[0m\n\u001b[1;32m      5\u001b[0m \u001b[0mscaler\u001b[0m \u001b[0;34m=\u001b[0m \u001b[0mMinMaxScaler\u001b[0m\u001b[0;34m(\u001b[0m\u001b[0mfeature_range\u001b[0m\u001b[0;34m=\u001b[0m\u001b[0;34m(\u001b[0m\u001b[0;36m0\u001b[0m\u001b[0;34m,\u001b[0m \u001b[0;36m1\u001b[0m\u001b[0;34m)\u001b[0m\u001b[0;34m)\u001b[0m\u001b[0;34m\u001b[0m\u001b[0;34m\u001b[0m\u001b[0m\n",
            "\u001b[0;32m/usr/local/lib/python3.11/dist-packages/pandas/io/parsers/readers.py\u001b[0m in \u001b[0;36mread_csv\u001b[0;34m(filepath_or_buffer, sep, delimiter, header, names, index_col, usecols, dtype, engine, converters, true_values, false_values, skipinitialspace, skiprows, skipfooter, nrows, na_values, keep_default_na, na_filter, verbose, skip_blank_lines, parse_dates, infer_datetime_format, keep_date_col, date_parser, date_format, dayfirst, cache_dates, iterator, chunksize, compression, thousands, decimal, lineterminator, quotechar, quoting, doublequote, escapechar, comment, encoding, encoding_errors, dialect, on_bad_lines, delim_whitespace, low_memory, memory_map, float_precision, storage_options, dtype_backend)\u001b[0m\n\u001b[1;32m   1024\u001b[0m     \u001b[0mkwds\u001b[0m\u001b[0;34m.\u001b[0m\u001b[0mupdate\u001b[0m\u001b[0;34m(\u001b[0m\u001b[0mkwds_defaults\u001b[0m\u001b[0;34m)\u001b[0m\u001b[0;34m\u001b[0m\u001b[0;34m\u001b[0m\u001b[0m\n\u001b[1;32m   1025\u001b[0m \u001b[0;34m\u001b[0m\u001b[0m\n\u001b[0;32m-> 1026\u001b[0;31m     \u001b[0;32mreturn\u001b[0m \u001b[0m_read\u001b[0m\u001b[0;34m(\u001b[0m\u001b[0mfilepath_or_buffer\u001b[0m\u001b[0;34m,\u001b[0m \u001b[0mkwds\u001b[0m\u001b[0;34m)\u001b[0m\u001b[0;34m\u001b[0m\u001b[0;34m\u001b[0m\u001b[0m\n\u001b[0m\u001b[1;32m   1027\u001b[0m \u001b[0;34m\u001b[0m\u001b[0m\n\u001b[1;32m   1028\u001b[0m \u001b[0;34m\u001b[0m\u001b[0m\n",
            "\u001b[0;32m/usr/local/lib/python3.11/dist-packages/pandas/io/parsers/readers.py\u001b[0m in \u001b[0;36m_read\u001b[0;34m(filepath_or_buffer, kwds)\u001b[0m\n\u001b[1;32m    618\u001b[0m \u001b[0;34m\u001b[0m\u001b[0m\n\u001b[1;32m    619\u001b[0m     \u001b[0;31m# Create the parser.\u001b[0m\u001b[0;34m\u001b[0m\u001b[0;34m\u001b[0m\u001b[0m\n\u001b[0;32m--> 620\u001b[0;31m     \u001b[0mparser\u001b[0m \u001b[0;34m=\u001b[0m \u001b[0mTextFileReader\u001b[0m\u001b[0;34m(\u001b[0m\u001b[0mfilepath_or_buffer\u001b[0m\u001b[0;34m,\u001b[0m \u001b[0;34m**\u001b[0m\u001b[0mkwds\u001b[0m\u001b[0;34m)\u001b[0m\u001b[0;34m\u001b[0m\u001b[0;34m\u001b[0m\u001b[0m\n\u001b[0m\u001b[1;32m    621\u001b[0m \u001b[0;34m\u001b[0m\u001b[0m\n\u001b[1;32m    622\u001b[0m     \u001b[0;32mif\u001b[0m \u001b[0mchunksize\u001b[0m \u001b[0;32mor\u001b[0m \u001b[0miterator\u001b[0m\u001b[0;34m:\u001b[0m\u001b[0;34m\u001b[0m\u001b[0;34m\u001b[0m\u001b[0m\n",
            "\u001b[0;32m/usr/local/lib/python3.11/dist-packages/pandas/io/parsers/readers.py\u001b[0m in \u001b[0;36m__init__\u001b[0;34m(self, f, engine, **kwds)\u001b[0m\n\u001b[1;32m   1618\u001b[0m \u001b[0;34m\u001b[0m\u001b[0m\n\u001b[1;32m   1619\u001b[0m         \u001b[0mself\u001b[0m\u001b[0;34m.\u001b[0m\u001b[0mhandles\u001b[0m\u001b[0;34m:\u001b[0m \u001b[0mIOHandles\u001b[0m \u001b[0;34m|\u001b[0m \u001b[0;32mNone\u001b[0m \u001b[0;34m=\u001b[0m \u001b[0;32mNone\u001b[0m\u001b[0;34m\u001b[0m\u001b[0;34m\u001b[0m\u001b[0m\n\u001b[0;32m-> 1620\u001b[0;31m         \u001b[0mself\u001b[0m\u001b[0;34m.\u001b[0m\u001b[0m_engine\u001b[0m \u001b[0;34m=\u001b[0m \u001b[0mself\u001b[0m\u001b[0;34m.\u001b[0m\u001b[0m_make_engine\u001b[0m\u001b[0;34m(\u001b[0m\u001b[0mf\u001b[0m\u001b[0;34m,\u001b[0m \u001b[0mself\u001b[0m\u001b[0;34m.\u001b[0m\u001b[0mengine\u001b[0m\u001b[0;34m)\u001b[0m\u001b[0;34m\u001b[0m\u001b[0;34m\u001b[0m\u001b[0m\n\u001b[0m\u001b[1;32m   1621\u001b[0m \u001b[0;34m\u001b[0m\u001b[0m\n\u001b[1;32m   1622\u001b[0m     \u001b[0;32mdef\u001b[0m \u001b[0mclose\u001b[0m\u001b[0;34m(\u001b[0m\u001b[0mself\u001b[0m\u001b[0;34m)\u001b[0m \u001b[0;34m->\u001b[0m \u001b[0;32mNone\u001b[0m\u001b[0;34m:\u001b[0m\u001b[0;34m\u001b[0m\u001b[0;34m\u001b[0m\u001b[0m\n",
            "\u001b[0;32m/usr/local/lib/python3.11/dist-packages/pandas/io/parsers/readers.py\u001b[0m in \u001b[0;36m_make_engine\u001b[0;34m(self, f, engine)\u001b[0m\n\u001b[1;32m   1878\u001b[0m                 \u001b[0;32mif\u001b[0m \u001b[0;34m\"b\"\u001b[0m \u001b[0;32mnot\u001b[0m \u001b[0;32min\u001b[0m \u001b[0mmode\u001b[0m\u001b[0;34m:\u001b[0m\u001b[0;34m\u001b[0m\u001b[0;34m\u001b[0m\u001b[0m\n\u001b[1;32m   1879\u001b[0m                     \u001b[0mmode\u001b[0m \u001b[0;34m+=\u001b[0m \u001b[0;34m\"b\"\u001b[0m\u001b[0;34m\u001b[0m\u001b[0;34m\u001b[0m\u001b[0m\n\u001b[0;32m-> 1880\u001b[0;31m             self.handles = get_handle(\n\u001b[0m\u001b[1;32m   1881\u001b[0m                 \u001b[0mf\u001b[0m\u001b[0;34m,\u001b[0m\u001b[0;34m\u001b[0m\u001b[0;34m\u001b[0m\u001b[0m\n\u001b[1;32m   1882\u001b[0m                 \u001b[0mmode\u001b[0m\u001b[0;34m,\u001b[0m\u001b[0;34m\u001b[0m\u001b[0;34m\u001b[0m\u001b[0m\n",
            "\u001b[0;32m/usr/local/lib/python3.11/dist-packages/pandas/io/common.py\u001b[0m in \u001b[0;36mget_handle\u001b[0;34m(path_or_buf, mode, encoding, compression, memory_map, is_text, errors, storage_options)\u001b[0m\n\u001b[1;32m    871\u001b[0m         \u001b[0;32mif\u001b[0m \u001b[0mioargs\u001b[0m\u001b[0;34m.\u001b[0m\u001b[0mencoding\u001b[0m \u001b[0;32mand\u001b[0m \u001b[0;34m\"b\"\u001b[0m \u001b[0;32mnot\u001b[0m \u001b[0;32min\u001b[0m \u001b[0mioargs\u001b[0m\u001b[0;34m.\u001b[0m\u001b[0mmode\u001b[0m\u001b[0;34m:\u001b[0m\u001b[0;34m\u001b[0m\u001b[0;34m\u001b[0m\u001b[0m\n\u001b[1;32m    872\u001b[0m             \u001b[0;31m# Encoding\u001b[0m\u001b[0;34m\u001b[0m\u001b[0;34m\u001b[0m\u001b[0m\n\u001b[0;32m--> 873\u001b[0;31m             handle = open(\n\u001b[0m\u001b[1;32m    874\u001b[0m                 \u001b[0mhandle\u001b[0m\u001b[0;34m,\u001b[0m\u001b[0;34m\u001b[0m\u001b[0;34m\u001b[0m\u001b[0m\n\u001b[1;32m    875\u001b[0m                 \u001b[0mioargs\u001b[0m\u001b[0;34m.\u001b[0m\u001b[0mmode\u001b[0m\u001b[0;34m,\u001b[0m\u001b[0;34m\u001b[0m\u001b[0;34m\u001b[0m\u001b[0m\n",
            "\u001b[0;31mFileNotFoundError\u001b[0m: [Errno 2] No such file or directory: '/content/voltage_data .csv'"
          ]
        }
      ]
    },
    {
      "cell_type": "code",
      "source": [
        "import tensorflow as tf\n",
        "from tensorflow.keras.models import Sequential\n",
        "from tensorflow.keras.layers import LSTM, Dense\n",
        "\n",
        "# Build LSTM Model\n",
        "model = Sequential([\n",
        "    LSTM(50, return_sequences=True, input_shape=(seq_length, 1)),\n",
        "    LSTM(50, return_sequences=False),\n",
        "    Dense(25, activation='relu'),\n",
        "    Dense(1)\n",
        "])\n",
        "\n",
        "# Compile the model\n",
        "model.compile(optimizer='adam', loss='mse')\n",
        "\n",
        "# Train the model\n",
        "model.fit(X, y, epochs=20, batch_size=8)\n"
      ],
      "metadata": {
        "colab": {
          "base_uri": "https://localhost:8080/"
        },
        "id": "eHW9E3KahDb5",
        "outputId": "18327e62-fa00-40bf-df61-534067af093e"
      },
      "execution_count": null,
      "outputs": [
        {
          "output_type": "stream",
          "name": "stdout",
          "text": [
            "Epoch 1/20\n"
          ]
        },
        {
          "output_type": "stream",
          "name": "stderr",
          "text": [
            "/usr/local/lib/python3.11/dist-packages/keras/src/layers/rnn/rnn.py:200: UserWarning: Do not pass an `input_shape`/`input_dim` argument to a layer. When using Sequential models, prefer using an `Input(shape)` object as the first layer in the model instead.\n",
            "  super().__init__(**kwargs)\n"
          ]
        },
        {
          "output_type": "stream",
          "name": "stdout",
          "text": [
            "\u001b[1m12/12\u001b[0m \u001b[32m━━━━━━━━━━━━━━━━━━━━\u001b[0m\u001b[37m\u001b[0m \u001b[1m5s\u001b[0m 13ms/step - loss: 0.5251\n",
            "Epoch 2/20\n",
            "\u001b[1m12/12\u001b[0m \u001b[32m━━━━━━━━━━━━━━━━━━━━\u001b[0m\u001b[37m\u001b[0m \u001b[1m0s\u001b[0m 15ms/step - loss: 0.0274\n",
            "Epoch 3/20\n",
            "\u001b[1m12/12\u001b[0m \u001b[32m━━━━━━━━━━━━━━━━━━━━\u001b[0m\u001b[37m\u001b[0m \u001b[1m0s\u001b[0m 13ms/step - loss: 0.0131\n",
            "Epoch 4/20\n",
            "\u001b[1m12/12\u001b[0m \u001b[32m━━━━━━━━━━━━━━━━━━━━\u001b[0m\u001b[37m\u001b[0m \u001b[1m0s\u001b[0m 14ms/step - loss: 0.0054\n",
            "Epoch 5/20\n",
            "\u001b[1m12/12\u001b[0m \u001b[32m━━━━━━━━━━━━━━━━━━━━\u001b[0m\u001b[37m\u001b[0m \u001b[1m0s\u001b[0m 13ms/step - loss: 0.0062\n",
            "Epoch 6/20\n",
            "\u001b[1m12/12\u001b[0m \u001b[32m━━━━━━━━━━━━━━━━━━━━\u001b[0m\u001b[37m\u001b[0m \u001b[1m0s\u001b[0m 15ms/step - loss: 0.0047\n",
            "Epoch 7/20\n",
            "\u001b[1m12/12\u001b[0m \u001b[32m━━━━━━━━━━━━━━━━━━━━\u001b[0m\u001b[37m\u001b[0m \u001b[1m0s\u001b[0m 14ms/step - loss: 0.0040\n",
            "Epoch 8/20\n",
            "\u001b[1m12/12\u001b[0m \u001b[32m━━━━━━━━━━━━━━━━━━━━\u001b[0m\u001b[37m\u001b[0m \u001b[1m0s\u001b[0m 13ms/step - loss: 0.0049\n",
            "Epoch 9/20\n",
            "\u001b[1m12/12\u001b[0m \u001b[32m━━━━━━━━━━━━━━━━━━━━\u001b[0m\u001b[37m\u001b[0m \u001b[1m0s\u001b[0m 17ms/step - loss: 0.0065\n",
            "Epoch 10/20\n",
            "\u001b[1m12/12\u001b[0m \u001b[32m━━━━━━━━━━━━━━━━━━━━\u001b[0m\u001b[37m\u001b[0m \u001b[1m0s\u001b[0m 14ms/step - loss: 0.0048\n",
            "Epoch 11/20\n",
            "\u001b[1m12/12\u001b[0m \u001b[32m━━━━━━━━━━━━━━━━━━━━\u001b[0m\u001b[37m\u001b[0m \u001b[1m0s\u001b[0m 14ms/step - loss: 0.0040\n",
            "Epoch 12/20\n",
            "\u001b[1m12/12\u001b[0m \u001b[32m━━━━━━━━━━━━━━━━━━━━\u001b[0m\u001b[37m\u001b[0m \u001b[1m0s\u001b[0m 13ms/step - loss: 0.0042\n",
            "Epoch 13/20\n",
            "\u001b[1m12/12\u001b[0m \u001b[32m━━━━━━━━━━━━━━━━━━━━\u001b[0m\u001b[37m\u001b[0m \u001b[1m0s\u001b[0m 16ms/step - loss: 0.0045\n",
            "Epoch 14/20\n",
            "\u001b[1m12/12\u001b[0m \u001b[32m━━━━━━━━━━━━━━━━━━━━\u001b[0m\u001b[37m\u001b[0m \u001b[1m0s\u001b[0m 15ms/step - loss: 0.0048\n",
            "Epoch 15/20\n",
            "\u001b[1m12/12\u001b[0m \u001b[32m━━━━━━━━━━━━━━━━━━━━\u001b[0m\u001b[37m\u001b[0m \u001b[1m0s\u001b[0m 13ms/step - loss: 0.0035\n",
            "Epoch 16/20\n",
            "\u001b[1m12/12\u001b[0m \u001b[32m━━━━━━━━━━━━━━━━━━━━\u001b[0m\u001b[37m\u001b[0m \u001b[1m0s\u001b[0m 14ms/step - loss: 0.0039\n",
            "Epoch 17/20\n",
            "\u001b[1m12/12\u001b[0m \u001b[32m━━━━━━━━━━━━━━━━━━━━\u001b[0m\u001b[37m\u001b[0m \u001b[1m0s\u001b[0m 14ms/step - loss: 0.0040\n",
            "Epoch 18/20\n",
            "\u001b[1m12/12\u001b[0m \u001b[32m━━━━━━━━━━━━━━━━━━━━\u001b[0m\u001b[37m\u001b[0m \u001b[1m0s\u001b[0m 18ms/step - loss: 0.0035\n",
            "Epoch 19/20\n",
            "\u001b[1m12/12\u001b[0m \u001b[32m━━━━━━━━━━━━━━━━━━━━\u001b[0m\u001b[37m\u001b[0m \u001b[1m0s\u001b[0m 14ms/step - loss: 0.0046\n",
            "Epoch 20/20\n",
            "\u001b[1m12/12\u001b[0m \u001b[32m━━━━━━━━━━━━━━━━━━━━\u001b[0m\u001b[37m\u001b[0m \u001b[1m0s\u001b[0m 14ms/step - loss: 0.0035\n"
          ]
        },
        {
          "output_type": "execute_result",
          "data": {
            "text/plain": [
              "<keras.src.callbacks.history.History at 0x793b1021c210>"
            ]
          },
          "metadata": {},
          "execution_count": 21
        }
      ]
    },
    {
      "cell_type": "code",
      "source": [
        "# Threshold for high voltage\n",
        "VOLTAGE_THRESHOLD = 235.0  # 240V is the limit\n",
        "\n",
        "# Function to classify voltage levels\n",
        "def classify_voltage(voltage):\n",
        "    if voltage > VOLTAGE_THRESHOLD:\n",
        "        return \"High (Fault)\"\n",
        "    else:\n",
        "        return \"Low (Normal)\"\n"
      ],
      "metadata": {
        "id": "OGY62QVhhMPR"
      },
      "execution_count": null,
      "outputs": []
    },
    {
      "cell_type": "code",
      "source": [
        "# Test the model in real-time\n",
        "while True:\n",
        "    voltage = get_voltage()\n",
        "\n",
        "    if voltage is not None:\n",
        "        # Classify the voltage as High (Fault) or Low (Normal)\n",
        "        status = classify_voltage(voltage)\n",
        "        print(f\"Voltage: {voltage}V, Status: {status}\")\n",
        "\n",
        "        # If voltage is high, send alert\n",
        "        if status == \"High (Fault)\":\n",
        "            send_alert(f\"⚠️ Warning! High Voltage: {voltage}V\")\n",
        "\n",
        "    time.sleep(5)  # Fetch new data every 5 seconds\n"
      ],
      "metadata": {
        "colab": {
          "base_uri": "https://localhost:8080/",
          "height": 1000
        },
        "id": "XhlI_KH0hRAe",
        "outputId": "dcd25dfe-cb6d-46a1-9896-b5020ee996a5"
      },
      "execution_count": null,
      "outputs": [
        {
          "output_type": "stream",
          "name": "stdout",
          "text": [
            "Voltage: 242.28V, Status: High (Fault)\n",
            "⚠️ Failed to send alert.\n",
            "Voltage: 241.73V, Status: High (Fault)\n",
            "⚠️ Failed to send alert.\n",
            "Voltage: 242.28V, Status: High (Fault)\n",
            "⚠️ Failed to send alert.\n",
            "Voltage: 242.0V, Status: High (Fault)\n",
            "⚠️ Failed to send alert.\n",
            "Voltage: 243.1V, Status: High (Fault)\n",
            "⚠️ Failed to send alert.\n",
            "Voltage: 242.28V, Status: High (Fault)\n",
            "⚠️ Failed to send alert.\n",
            "Voltage: 242.0V, Status: High (Fault)\n",
            "⚠️ Failed to send alert.\n",
            "Voltage: 212.47V, Status: Low (Normal)\n",
            "Voltage: 242.28V, Status: High (Fault)\n",
            "⚠️ Failed to send alert.\n",
            "Voltage: 241.73V, Status: High (Fault)\n",
            "⚠️ Failed to send alert.\n",
            "Voltage: 241.18V, Status: High (Fault)\n",
            "⚠️ Failed to send alert.\n",
            "Voltage: 200.99V, Status: Low (Normal)\n",
            "Voltage: 218.49V, Status: Low (Normal)\n",
            "Voltage: 217.67V, Status: Low (Normal)\n",
            "Voltage: 224.5V, Status: Low (Normal)\n",
            "Voltage: 235.72V, Status: High (Fault)\n",
            "⚠️ Failed to send alert.\n",
            "Voltage: 229.97V, Status: Low (Normal)\n",
            "Voltage: 0.0V, Status: Low (Normal)\n",
            "Voltage: 0.0V, Status: Low (Normal)\n",
            "Voltage: 0.0V, Status: Low (Normal)\n",
            "Voltage: 0.0V, Status: Low (Normal)\n",
            "Voltage: 0.0V, Status: Low (Normal)\n",
            "Voltage: 0.0V, Status: Low (Normal)\n",
            "Voltage: 0.0V, Status: Low (Normal)\n",
            "Voltage: 0.0V, Status: Low (Normal)\n",
            "Voltage: 0.0V, Status: Low (Normal)\n",
            "Voltage: 0.0V, Status: Low (Normal)\n",
            "Voltage: 0.0V, Status: Low (Normal)\n",
            "Voltage: 0.0V, Status: Low (Normal)\n",
            "Voltage: 0.0V, Status: Low (Normal)\n",
            "Voltage: 0.0V, Status: Low (Normal)\n",
            "Voltage: 0.0V, Status: Low (Normal)\n",
            "Voltage: 0.0V, Status: Low (Normal)\n",
            "Voltage: 0.0V, Status: Low (Normal)\n",
            "Voltage: 0.0V, Status: Low (Normal)\n",
            "Voltage: 0.0V, Status: Low (Normal)\n",
            "Voltage: 0.0V, Status: Low (Normal)\n",
            "Voltage: 0.0V, Status: Low (Normal)\n",
            "Voltage: 0.0V, Status: Low (Normal)\n",
            "Voltage: 0.0V, Status: Low (Normal)\n",
            "Voltage: 0.0V, Status: Low (Normal)\n",
            "Voltage: 0.0V, Status: Low (Normal)\n",
            "Voltage: 0.0V, Status: Low (Normal)\n",
            "Voltage: 0.0V, Status: Low (Normal)\n",
            "Voltage: 0.0V, Status: Low (Normal)\n",
            "Voltage: 0.0V, Status: Low (Normal)\n",
            "Voltage: 0.0V, Status: Low (Normal)\n",
            "Voltage: 0.0V, Status: Low (Normal)\n",
            "Voltage: 0.0V, Status: Low (Normal)\n",
            "Voltage: 0.0V, Status: Low (Normal)\n",
            "Voltage: 0.0V, Status: Low (Normal)\n",
            "Voltage: 0.0V, Status: Low (Normal)\n",
            "Voltage: 0.0V, Status: Low (Normal)\n",
            "Voltage: 0.0V, Status: Low (Normal)\n",
            "Voltage: 0.0V, Status: Low (Normal)\n",
            "Voltage: 0.0V, Status: Low (Normal)\n",
            "Voltage: 0.0V, Status: Low (Normal)\n",
            "Voltage: 0.0V, Status: Low (Normal)\n",
            "Voltage: 0.0V, Status: Low (Normal)\n",
            "Voltage: 0.0V, Status: Low (Normal)\n",
            "Voltage: 0.0V, Status: Low (Normal)\n",
            "Voltage: 0.0V, Status: Low (Normal)\n",
            "Voltage: 0.0V, Status: Low (Normal)\n",
            "Voltage: 0.0V, Status: Low (Normal)\n",
            "Voltage: 0.0V, Status: Low (Normal)\n",
            "Voltage: 0.0V, Status: Low (Normal)\n",
            "Voltage: 0.0V, Status: Low (Normal)\n",
            "Voltage: 0.0V, Status: Low (Normal)\n",
            "Voltage: 0.0V, Status: Low (Normal)\n",
            "Voltage: 0.0V, Status: Low (Normal)\n",
            "Voltage: 0.0V, Status: Low (Normal)\n",
            "Voltage: 0.0V, Status: Low (Normal)\n",
            "Voltage: 0.0V, Status: Low (Normal)\n",
            "Voltage: 0.0V, Status: Low (Normal)\n",
            "Voltage: 0.0V, Status: Low (Normal)\n",
            "Voltage: 0.0V, Status: Low (Normal)\n",
            "Voltage: 0.0V, Status: Low (Normal)\n",
            "Voltage: 0.0V, Status: Low (Normal)\n",
            "Voltage: 0.0V, Status: Low (Normal)\n",
            "Voltage: 0.0V, Status: Low (Normal)\n",
            "Voltage: 0.0V, Status: Low (Normal)\n",
            "Voltage: 0.0V, Status: Low (Normal)\n",
            "Voltage: 0.0V, Status: Low (Normal)\n",
            "Voltage: 0.0V, Status: Low (Normal)\n",
            "Voltage: 0.0V, Status: Low (Normal)\n",
            "Voltage: 0.0V, Status: Low (Normal)\n",
            "Voltage: 0.0V, Status: Low (Normal)\n",
            "Voltage: 0.0V, Status: Low (Normal)\n",
            "Voltage: 0.0V, Status: Low (Normal)\n",
            "Voltage: 0.0V, Status: Low (Normal)\n",
            "Voltage: 0.0V, Status: Low (Normal)\n",
            "Voltage: 0.0V, Status: Low (Normal)\n",
            "Voltage: 0.0V, Status: Low (Normal)\n",
            "Voltage: 0.0V, Status: Low (Normal)\n",
            "Voltage: 0.0V, Status: Low (Normal)\n",
            "Voltage: 0.0V, Status: Low (Normal)\n",
            "Voltage: 0.0V, Status: Low (Normal)\n",
            "Voltage: 0.0V, Status: Low (Normal)\n",
            "Voltage: 0.0V, Status: Low (Normal)\n",
            "Voltage: 0.0V, Status: Low (Normal)\n",
            "Voltage: 0.0V, Status: Low (Normal)\n",
            "Voltage: 0.0V, Status: Low (Normal)\n",
            "Voltage: 0.0V, Status: Low (Normal)\n",
            "Voltage: 0.0V, Status: Low (Normal)\n",
            "Voltage: 0.0V, Status: Low (Normal)\n",
            "Voltage: 0.0V, Status: Low (Normal)\n",
            "Voltage: 0.0V, Status: Low (Normal)\n",
            "Voltage: 0.0V, Status: Low (Normal)\n",
            "Voltage: 0.0V, Status: Low (Normal)\n",
            "Voltage: 0.0V, Status: Low (Normal)\n",
            "Voltage: 0.0V, Status: Low (Normal)\n",
            "Voltage: 0.0V, Status: Low (Normal)\n",
            "Voltage: 0.0V, Status: Low (Normal)\n",
            "Voltage: 0.0V, Status: Low (Normal)\n",
            "Voltage: 0.0V, Status: Low (Normal)\n",
            "Voltage: 0.0V, Status: Low (Normal)\n",
            "Voltage: 0.0V, Status: Low (Normal)\n",
            "Voltage: 0.0V, Status: Low (Normal)\n",
            "Voltage: 0.0V, Status: Low (Normal)\n",
            "Voltage: 0.0V, Status: Low (Normal)\n",
            "Voltage: 0.0V, Status: Low (Normal)\n",
            "Voltage: 0.0V, Status: Low (Normal)\n",
            "Voltage: 0.0V, Status: Low (Normal)\n",
            "Voltage: 0.0V, Status: Low (Normal)\n",
            "Voltage: 0.0V, Status: Low (Normal)\n",
            "Voltage: 0.0V, Status: Low (Normal)\n",
            "Voltage: 0.0V, Status: Low (Normal)\n",
            "Voltage: 0.0V, Status: Low (Normal)\n",
            "Voltage: 0.0V, Status: Low (Normal)\n",
            "Voltage: 0.0V, Status: Low (Normal)\n",
            "Voltage: 0.0V, Status: Low (Normal)\n",
            "Voltage: 0.0V, Status: Low (Normal)\n",
            "Voltage: 0.0V, Status: Low (Normal)\n",
            "Voltage: 0.0V, Status: Low (Normal)\n",
            "Voltage: 0.0V, Status: Low (Normal)\n",
            "Voltage: 0.0V, Status: Low (Normal)\n",
            "Voltage: 0.0V, Status: Low (Normal)\n",
            "Voltage: 0.0V, Status: Low (Normal)\n",
            "Voltage: 0.0V, Status: Low (Normal)\n",
            "Voltage: 0.0V, Status: Low (Normal)\n",
            "Voltage: 0.0V, Status: Low (Normal)\n",
            "Voltage: 0.0V, Status: Low (Normal)\n",
            "Voltage: 0.0V, Status: Low (Normal)\n",
            "Voltage: 0.0V, Status: Low (Normal)\n",
            "Voltage: 0.0V, Status: Low (Normal)\n",
            "Voltage: 0.0V, Status: Low (Normal)\n",
            "Voltage: 0.0V, Status: Low (Normal)\n",
            "Voltage: 0.0V, Status: Low (Normal)\n",
            "Voltage: 0.0V, Status: Low (Normal)\n",
            "Voltage: 0.0V, Status: Low (Normal)\n",
            "Voltage: 0.0V, Status: Low (Normal)\n",
            "Voltage: 0.0V, Status: Low (Normal)\n",
            "Voltage: 0.0V, Status: Low (Normal)\n",
            "Voltage: 0.0V, Status: Low (Normal)\n",
            "Voltage: 0.0V, Status: Low (Normal)\n",
            "Voltage: 0.0V, Status: Low (Normal)\n",
            "Voltage: 0.0V, Status: Low (Normal)\n",
            "Voltage: 0.0V, Status: Low (Normal)\n",
            "Voltage: 0.0V, Status: Low (Normal)\n",
            "Voltage: 0.0V, Status: Low (Normal)\n",
            "Voltage: 0.0V, Status: Low (Normal)\n",
            "Voltage: 0.0V, Status: Low (Normal)\n",
            "Voltage: 0.0V, Status: Low (Normal)\n",
            "Voltage: 0.0V, Status: Low (Normal)\n",
            "Voltage: 0.0V, Status: Low (Normal)\n",
            "Voltage: 0.0V, Status: Low (Normal)\n",
            "Voltage: 0.0V, Status: Low (Normal)\n"
          ]
        },
        {
          "output_type": "error",
          "ename": "KeyboardInterrupt",
          "evalue": "",
          "traceback": [
            "\u001b[0;31m---------------------------------------------------------------------------\u001b[0m",
            "\u001b[0;31mKeyboardInterrupt\u001b[0m                         Traceback (most recent call last)",
            "\u001b[0;32m<ipython-input-23-b5692cfa58e5>\u001b[0m in \u001b[0;36m<cell line: 0>\u001b[0;34m()\u001b[0m\n\u001b[1;32m     12\u001b[0m             \u001b[0msend_alert\u001b[0m\u001b[0;34m(\u001b[0m\u001b[0;34mf\"⚠️ Warning! High Voltage: {voltage}V\"\u001b[0m\u001b[0;34m)\u001b[0m\u001b[0;34m\u001b[0m\u001b[0;34m\u001b[0m\u001b[0m\n\u001b[1;32m     13\u001b[0m \u001b[0;34m\u001b[0m\u001b[0m\n\u001b[0;32m---> 14\u001b[0;31m     \u001b[0mtime\u001b[0m\u001b[0;34m.\u001b[0m\u001b[0msleep\u001b[0m\u001b[0;34m(\u001b[0m\u001b[0;36m5\u001b[0m\u001b[0;34m)\u001b[0m  \u001b[0;31m# Fetch new data every 5 seconds\u001b[0m\u001b[0;34m\u001b[0m\u001b[0;34m\u001b[0m\u001b[0m\n\u001b[0m",
            "\u001b[0;31mKeyboardInterrupt\u001b[0m: "
          ]
        }
      ]
    },
    {
      "cell_type": "code",
      "source": [],
      "metadata": {
        "id": "02NqWM8ahuEs"
      },
      "execution_count": null,
      "outputs": []
    },
    {
      "cell_type": "code",
      "source": [],
      "metadata": {
        "id": "-vjdQYVnxEWC"
      },
      "execution_count": null,
      "outputs": []
    },
    {
      "cell_type": "code",
      "source": [],
      "metadata": {
        "id": "USkPUEuMxFEZ"
      },
      "execution_count": null,
      "outputs": []
    },
    {
      "cell_type": "code",
      "source": [],
      "metadata": {
        "id": "ZySXxhVtxKh7"
      },
      "execution_count": null,
      "outputs": []
    },
    {
      "cell_type": "code",
      "source": [],
      "metadata": {
        "id": "O8qtoAMKxO6X"
      },
      "execution_count": null,
      "outputs": []
    },
    {
      "cell_type": "code",
      "source": [],
      "metadata": {
        "id": "iIMdsXQaxPcf"
      },
      "execution_count": null,
      "outputs": []
    },
    {
      "cell_type": "code",
      "source": [],
      "metadata": {
        "id": "TrrKkTbWxS9l"
      },
      "execution_count": null,
      "outputs": []
    }
  ]
}