{
 "cells": [
  {
   "cell_type": "code",
   "execution_count": 1,
   "id": "8176bf63",
   "metadata": {},
   "outputs": [],
   "source": [
    "import numpy as np\n",
    "import pandas as pd\n",
    "from sklearn.model_selection import train_test_split, cross_val_score\n",
    "from sklearn.preprocessing import MinMaxScaler\n",
    "from sklearn.tree import DecisionTreeClassifier\n",
    "from sklearn.metrics import accuracy_score, f1_score, mean_squared_error, precision_score"
   ]
  },
  {
   "cell_type": "code",
   "execution_count": 2,
   "id": "64459b83",
   "metadata": {},
   "outputs": [],
   "source": [
    "# Step 1: Load dataset\n",
    "file_path = \"voltage_data electric water heater.csv\"  # Update with correct path if needed\n",
    "df = pd.read_csv(file_path)"
   ]
  },
  {
   "cell_type": "code",
   "execution_count": 3,
   "id": "0a453c69",
   "metadata": {},
   "outputs": [
    {
     "name": "stdout",
     "output_type": "stream",
     "text": [
      "   Voltage\n",
      "0   234.07\n",
      "1   232.16\n",
      "2   232.16\n",
      "3   232.16\n",
      "4   232.43\n",
      "<class 'pandas.core.frame.DataFrame'>\n",
      "RangeIndex: 1000 entries, 0 to 999\n",
      "Data columns (total 1 columns):\n",
      " #   Column   Non-Null Count  Dtype  \n",
      "---  ------   --------------  -----  \n",
      " 0   Voltage  1000 non-null   float64\n",
      "dtypes: float64(1)\n",
      "memory usage: 7.9 KB\n",
      "None\n"
     ]
    }
   ],
   "source": [
    "print(df.head())\n",
    "print(df.info())\n"
   ]
  },
  {
   "cell_type": "code",
   "execution_count": 7,
   "id": "e01ba9a3",
   "metadata": {},
   "outputs": [
    {
     "name": "stdout",
     "output_type": "stream",
     "text": [
      "   Voltage  Status\n",
      "0   234.07       1\n",
      "1   232.16       1\n",
      "2   232.16       1\n",
      "3   232.16       1\n",
      "4   232.43       1\n",
      "1    566\n",
      "0    434\n",
      "Name: Status, dtype: int64\n"
     ]
    }
   ],
   "source": [
    "print(df.head())  # Should show both Voltage & Status columns\n",
    "print(df[\"Status\"].value_counts())"
   ]
  },
  {
   "cell_type": "code",
   "execution_count": 5,
   "id": "ea96df72",
   "metadata": {},
   "outputs": [
    {
     "name": "stdout",
     "output_type": "stream",
     "text": [
      "Label Distribution Before Augmentation:\n",
      " 1    566\n",
      "0    434\n",
      "Name: Status, dtype: int64\n"
     ]
    }
   ],
   "source": [
    "df[\"Status\"] = df[\"Voltage\"].apply(lambda x: 1 if x >= 230 else 0)\n",
    "df.rename(columns={\"Label\": \"Status\"}, inplace=True)\n",
    "print(\"Label Distribution Before Augmentation:\\n\", df['Status'].value_counts())"
   ]
  },
  {
   "cell_type": "code",
   "execution_count": 6,
   "id": "d4eedb85",
   "metadata": {},
   "outputs": [],
   "source": [
    "# Step 4: Handle missing class (create synthetic high-voltage samples)\n",
    "low_count = len(df[df[\"Status\"] == 0])\n",
    "high_count = len(df[df[\"Status\"] == 1])\n",
    "\n",
    "if high_count == 0:\n",
    "    print(\"\\u26A0 No high-voltage samples found. Generating synthetic data...\")\n",
    "    high_voltage_values = np.linspace(df[\"Voltage\"].max() * 1.1, df[\"Voltage\"].max() * 1.2, num=low_count)\n",
    "    high_voltage_df = pd.DataFrame({'Voltage': high_voltage_values, 'Status': 1})\n",
    "    df = pd.concat([df, high_voltage_df], ignore_index=True)"
   ]
  },
  {
   "cell_type": "code",
   "execution_count": 9,
   "id": "ff600230",
   "metadata": {},
   "outputs": [
    {
     "name": "stdout",
     "output_type": "stream",
     "text": [
      "Label Distribution After Augmentation:\n",
      " 1    566\n",
      "0    434\n",
      "Name: Status, dtype: int64\n",
      "Cross-Validation Accuracy: 0.8150 ± 0.0094\n",
      "\n",
      "Optimized Decision Tree Model\n",
      "Mean Squared Error (MSE): 0.2300\n",
      "Root Mean Squared Error (RMSE): 0.4796\n",
      "Accuracy: 0.7700\n",
      "F1-Score: 0.8000\n",
      "Precision: 0.7863\n"
     ]
    }
   ],
   "source": [
    "print(\"Label Distribution After Augmentation:\\n\", df['Status'].value_counts())\n",
    "\n",
    "# Step 6: Prepare features (X) and labels (y)\n",
    "X = df[['Voltage']].values  # Using Voltage as input feature\n",
    "y = df['Status'].values  # Target variable\n",
    "\n",
    "# Step 7: Normalize features\n",
    "scaler = MinMaxScaler(feature_range=(0, 1))\n",
    "X_scaled = scaler.fit_transform(X)\n",
    "\n",
    "# Step 8: Reduce Noise Injection (Balanced Noise)\n",
    "np.random.seed(42)\n",
    "X_noisy = X_scaled + np.random.normal(0, 0.005, X_scaled.shape)  # Lower noise impact\n",
    "\n",
    "# Step 9: Split data into train & test sets\n",
    "X_train, X_test, y_train, y_test = train_test_split(X_noisy, y, test_size=0.2, random_state=42, stratify=y)\n",
    "\n",
    "# 🔹 Step 10: Train an Optimized Decision Tree Model\n",
    "model = DecisionTreeClassifier(\n",
    "    max_depth=8,              # Prevent overfitting by limiting depth\n",
    "    min_samples_split=4,      # Ensure at least 4 samples to split\n",
    "    min_samples_leaf=1,       # Allow single samples in leaves\n",
    "    class_weight='balanced',  # Adjust weights for label imbalance\n",
    "    random_state=42\n",
    ")\n",
    "\n",
    "model.fit(X_train, y_train)\n",
    "\n",
    "# Step 11: Perform Cross-Validation\n",
    "cv_scores = cross_val_score(model, X_train, y_train, cv=5, scoring='accuracy')\n",
    "print(f\"Cross-Validation Accuracy: {cv_scores.mean():.4f} ± {cv_scores.std():.4f}\")\n",
    "\n",
    "# Step 12: Make predictions\n",
    "y_pred = model.predict(X_test)\n",
    "\n",
    "# Step 13: Evaluate model\n",
    "mse = mean_squared_error(y_test, y_pred)\n",
    "rmse = np.sqrt(mse)\n",
    "accuracy = accuracy_score(y_test, y_pred)\n",
    "f1 = f1_score(y_test, y_pred, zero_division=1)\n",
    "precision = precision_score(y_test, y_pred, zero_division=1)\n",
    "\n",
    "# Step 14: Display evaluation metrics\n",
    "print(\"\\nOptimized Decision Tree Model\")\n",
    "print(f\"Mean Squared Error (MSE): {mse:.4f}\")\n",
    "print(f\"Root Mean Squared Error (RMSE): {rmse:.4f}\")\n",
    "print(f\"Accuracy: {accuracy:.4f}\")  # Should improve over 75%+\n",
    "print(f\"F1-Score: {f1:.4f}\")\n",
    "print(f\"Precision: {precision:.4f}\")"
   ]
  },
  {
   "cell_type": "code",
   "execution_count": null,
   "id": "5d161beb",
   "metadata": {},
   "outputs": [],
   "source": []
  }
 ],
 "metadata": {
  "kernelspec": {
   "display_name": "Python 3 (ipykernel)",
   "language": "python",
   "name": "python3"
  },
  "language_info": {
   "codemirror_mode": {
    "name": "ipython",
    "version": 3
   },
   "file_extension": ".py",
   "mimetype": "text/x-python",
   "name": "python",
   "nbconvert_exporter": "python",
   "pygments_lexer": "ipython3",
   "version": "3.11.4"
  }
 },
 "nbformat": 4,
 "nbformat_minor": 5
}
